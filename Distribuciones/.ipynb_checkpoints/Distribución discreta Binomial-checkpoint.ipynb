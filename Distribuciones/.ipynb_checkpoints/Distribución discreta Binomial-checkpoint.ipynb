{
 "cells": [
  {
   "cell_type": "markdown",
   "metadata": {},
   "source": [
    "### Distribución Binomial\n",
    "Un ensayo de Bernouilli se define como un experimento donde puede darse un éxito o fracaso y donde cada ensayo es independiente del anterior. Por ejemplo, un ensayo de Bernoulli de parámetro 0.5 sería lanzar una moneda a cara o cruz (mitad de posibilidades de cara, mitad de posibilidades de cruz).\n",
    "\n",
    "Si repetimos N veces los ensayos de Bernouilli tenemos una distribución binomial.\n",
    "\n",
    "### Problema\n",
    "Un proveedor de DVDs regrabables afirma que solamente el 4 % de los\n",
    "artículos suministrados son defectuosos. Si un cliente compra un lote de 25\n",
    "DVDs, ¿cuál es el número esperado de DVDs defectuosos en el lote? Si el cliente encuentra que 4 de los DVDs comprados son defectuosos, ¿debe dudar de la afirmación del vendedor?\n",
    "https://docs.scipy.org/doc/scipy/reference/generated/scipy.stats.binom.html\n",
    "* cdf(x) - Función de distribución F(X)\n",
    "* sf(x) = 1 - cdf(x)\n",
    "* pmf(x) - Función de probabilidad f(x) (distribuciones discretas)\n",
    "* pdf(x) - Función de densidad f(x) (distribuciones continuas)\n",
    "* ppf(x) - Función inversa a cdf(x). Nos permite obtener el valor correspondiente a una probabilidad."
   ]
  },
  {
   "cell_type": "code",
   "execution_count": 12,
   "metadata": {},
   "outputs": [
    {
     "data": {
      "text/plain": [
       "1.0"
      ]
     },
     "execution_count": 12,
     "metadata": {},
     "output_type": "execute_result"
    }
   ],
   "source": [
    "import scipy.stats as ss\n",
    "import numpy as np\n",
    "import matplotlib.pyplot as plt\n",
    "import seaborn as sns\n",
    "X = ss.binom(25,0.04)\n",
    "X.mean()"
   ]
  },
  {
   "cell_type": "markdown",
   "metadata": {},
   "source": [
    "Es decir, de media habría 1 DVD defectuoso en el paquete. mean calcula la media de la distribución.\n",
    "Para saber si hay que fiarse del vendedor vamos a calcular cuál era la probabilidad de que nos tocasen 4 DVDs defectuosos."
   ]
  },
  {
   "cell_type": "code",
   "execution_count": 13,
   "metadata": {},
   "outputs": [
    {
     "data": {
      "text/plain": [
       "0.016521575032415876"
      ]
     },
     "execution_count": 13,
     "metadata": {},
     "output_type": "execute_result"
    }
   ],
   "source": [
    "pr = X.sf(3)\n",
    "pr"
   ]
  },
  {
   "cell_type": "markdown",
   "metadata": {},
   "source": [
    "Es decir, la probabilidad que ocurriese era del 1%. Podemos sospechar del fabricante. cdf calcula las probabilidades acumuladas. En este caso tenemos que calcular la probabilidad de que hubiese 4 o más fallos, Pr{X>=4}. Una manera fácil de calcularlo es hacer 1-Pr{X<4}. cdf(n) nos permite calcular probabilidades acumuladas hasta N. Otra opción sería simplemente obtener la probabilidad de 0 DVDs defectuosos, 1 DVD defectuoso, de 2 DVDs defectuosos, de 3 DVDs defectuosos, sumarlo y restarlo de 1."
   ]
  },
  {
   "cell_type": "code",
   "execution_count": 14,
   "metadata": {},
   "outputs": [
    {
     "data": {
      "text/plain": [
       "0.9834784249675821"
      ]
     },
     "execution_count": 14,
     "metadata": {},
     "output_type": "execute_result"
    }
   ],
   "source": [
    "sumatory = X.pmf(0) + X.pmf(1) + X.pmf(2) + X.pmf(3)\n",
    "sumatory"
   ]
  },
  {
   "cell_type": "code",
   "execution_count": 15,
   "metadata": {
    "scrolled": true
   },
   "outputs": [
    {
     "data": {
      "text/plain": [
       "0.016521575032417912"
      ]
     },
     "execution_count": 15,
     "metadata": {},
     "output_type": "execute_result"
    }
   ],
   "source": [
    "probability = 1 - sumatory\n",
    "probability"
   ]
  },
  {
   "cell_type": "markdown",
   "metadata": {},
   "source": [
    "Otra forma de hacerlo"
   ]
  },
  {
   "cell_type": "code",
   "execution_count": 16,
   "metadata": {},
   "outputs": [
    {
     "data": {
      "text/plain": [
       "0.016521575032417912"
      ]
     },
     "execution_count": 16,
     "metadata": {},
     "output_type": "execute_result"
    }
   ],
   "source": [
    "pr = 1 - sum(X.pmf(x) for x in range(4))\n",
    "pr"
   ]
  },
  {
   "cell_type": "markdown",
   "metadata": {},
   "source": [
    "pmf(n) devuelve la probabilidad de que X=N, Pr{X=N} Esto solo tiene sentido en ciertas distribuciones, las discretas, como es el caso de la binomial."
   ]
  },
  {
   "cell_type": "code",
   "execution_count": 17,
   "metadata": {
    "scrolled": true
   },
   "outputs": [
    {
     "data": {
      "image/png": "[encoded data removed]",
      "text/plain": [
       "<Figure size 432x288 with 1 Axes>"
      ]
     },
     "metadata": {
      "needs_background": "light"
     },
     "output_type": "display_data"
    }
   ],
   "source": [
    "x = np.arange(-5,10)\n",
    "\n",
    "plt.plot(x,X.pmf(x),\"bo\")\n",
    "plt.vlines(x,0,X.pmf(x),\"b\")\n",
    "plt.xlabel('DVDs defectuosos')\n",
    "plt.ylabel('Probabilidad')\n",
    "plt.show()"
   ]
  },
  {
   "cell_type": "markdown",
   "metadata": {},
   "source": [
    "En el gráfico también se puede ver que las probabilidades de tener 4 o más DVDs defectuosos son mínimas."
   ]
  },
  {
   "cell_type": "markdown",
   "metadata": {},
   "source": [
    "## Ejemplo 2"
   ]
  },
  {
   "cell_type": "code",
   "execution_count": 5,
   "metadata": {},
   "outputs": [
    {
     "data": {
      "text/plain": [
       "array([4, 1, 4, 2, 3, 1, 1, 4, 3, 4, 4, 3, 3, 2, 3, 2, 2, 5, 5, 4, 3, 1,\n",
       "       4, 4, 4, 2, 2, 2, 4, 3, 3, 4, 4, 3, 2, 1, 2, 4, 2, 3, 5, 2, 4, 3,\n",
       "       1, 1, 4, 3, 6, 2, 3, 2, 3, 4, 5, 2, 2, 3, 5, 4, 3, 1, 4, 2, 2, 3,\n",
       "       6, 2, 2, 4, 3, 7, 1, 2, 3, 1, 2, 3, 6, 4, 4, 0, 2, 5, 3, 3, 0, 2,\n",
       "       2, 3, 3, 1, 6, 2, 2, 4, 4, 5, 3, 2])"
      ]
     },
     "execution_count": 5,
     "metadata": {},
     "output_type": "execute_result"
    }
   ],
   "source": [
    "p = 0.3\n",
    "n = 10\n",
    "data = ss.binom.rvs(p=p, n=n, size=100)\n",
    "data"
   ]
  },
  {
   "cell_type": "code",
   "execution_count": 6,
   "metadata": {},
   "outputs": [
    {
     "data": {
      "text/plain": [
       "100"
      ]
     },
     "execution_count": 6,
     "metadata": {},
     "output_type": "execute_result"
    }
   ],
   "source": [
    "len(data)"
   ]
  },
  {
   "cell_type": "code",
   "execution_count": 8,
   "metadata": {},
   "outputs": [
    {
     "data": {
      "text/plain": [
       "(array(3.), array(2.1), array(0.27602622), array(-0.12380952))"
      ]
     },
     "execution_count": 8,
     "metadata": {},
     "output_type": "execute_result"
    }
   ],
   "source": [
    "mean, var, skew, kurt = ss.binom.stats(p=p,n=n,moments='mvsk')\n",
    "mean, var, skew, kurt"
   ]
  },
  {
   "cell_type": "code",
   "execution_count": 11,
   "metadata": {},
   "outputs": [
    {
     "data": {
      "text/plain": [
       "<matplotlib.legend.Legend at 0x20c10d05248>"
      ]
     },
     "execution_count": 11,
     "metadata": {},
     "output_type": "execute_result"
    },
    {
     "data": {
      "image/png": "[encoded data removed]",
      "text/plain": [
       "<Figure size 432x288 with 1 Axes>"
      ]
     },
     "metadata": {
      "needs_background": "light"
     },
     "output_type": "display_data"
    }
   ],
   "source": [
    "ax = sns.distplot(data,bins=30,kde=False, color = 'blue')\n",
    "ax.set(xlabel='Distribución binomial', ylabel='Frecuencia')\n",
    "ax.axvline(x=mean,linestyle='--',label='Media')\n",
    "ax.legend()"
   ]
  }
 ],
 "metadata": {
  "kernelspec": {
   "display_name": "Python 3",
   "language": "python",
   "name": "python3"
  },
  "language_info": {
   "codemirror_mode": {
    "name": "ipython",
    "version": 3
   },
   "file_extension": ".py",
   "mimetype": "text/x-python",
   "name": "python",
   "nbconvert_exporter": "python",
   "pygments_lexer": "ipython3",
   "version": "3.7.6"
  }
 },
 "nbformat": 4,
 "nbformat_minor": 4
}
