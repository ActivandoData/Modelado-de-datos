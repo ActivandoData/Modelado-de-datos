{
 "cells": [
  {
   "cell_type": "markdown",
   "metadata": {},
   "source": [
    "## Distribución binomial negativa\n",
    "Es un caso especial de la distribución geometrica"
   ]
  },
  {
   "cell_type": "code",
   "execution_count": 12,
   "metadata": {},
   "outputs": [],
   "source": [
    "from scipy.stats import nbinom\n",
    "import seaborn as sns"
   ]
  },
  {
   "cell_type": "code",
   "execution_count": 22,
   "metadata": {},
   "outputs": [
    {
     "data": {
      "text/plain": [
       "array([ 3,  5,  0,  3,  0,  1,  0,  2,  3,  0,  0,  0,  7,  0,  2,  1,  0,\n",
       "        2,  0,  0,  1,  5, 10,  3,  4,  7,  4,  6,  5,  4,  0,  1,  4,  2,\n",
       "        0,  4,  0, 12,  4,  4,  3,  3,  6,  3,  3,  0,  1,  0,  0,  4,  2,\n",
       "        4,  1,  1,  4,  0,  2,  7,  2,  0,  2,  0,  1,  1,  0,  1,  0,  0,\n",
       "        2,  2,  2,  0,  0,  0,  0,  7,  1,  3, 11,  0,  0,  2,  0,  1,  1,\n",
       "        1,  1,  4,  8,  4,  0, 10,  6,  4,  2,  4,  0,  1,  0,  1])"
      ]
     },
     "execution_count": 22,
     "metadata": {},
     "output_type": "execute_result"
    }
   ],
   "source": [
    "p= 0.3\n",
    "# Cambiar entre 1 y 10\n",
    "n = 1\n",
    "data = nbinom.rvs(p=p, n=n, size=100)\n",
    "data"
   ]
  },
  {
   "cell_type": "code",
   "execution_count": 23,
   "metadata": {},
   "outputs": [
    {
     "data": {
      "text/plain": [
       "(array(2.33333333), array(7.77777778), array(2.03188864), array(6.12857143))"
      ]
     },
     "execution_count": 23,
     "metadata": {},
     "output_type": "execute_result"
    }
   ],
   "source": [
    "mean, var, skew, kurt = nbinom.stats(p=p,n=n,moments='mvsk')\n",
    "mean, var, skew, kurt"
   ]
  },
  {
   "cell_type": "code",
   "execution_count": 24,
   "metadata": {},
   "outputs": [
    {
     "data": {
      "text/plain": [
       "<matplotlib.legend.Legend at 0x1837d4bfa08>"
      ]
     },
     "execution_count": 24,
     "metadata": {},
     "output_type": "execute_result"
    },
    {
     "data": {
      "image/png": "[encoded data removed]",
      "text/plain": [
       "<Figure size 432x288 with 1 Axes>"
      ]
     },
     "metadata": {
      "needs_background": "light"
     },
     "output_type": "display_data"
    }
   ],
   "source": [
    "ax = sns.distplot(data, bins = 30, kde = False, color='blue')\n",
    "ax.set(xlabel = 'Distribución binomial negativa', ylabel=\"Frecuencia\")\n",
    "ax.axvline(x = mean, linestyle = '--', label = 'Media')\n",
    "ax.legend()"
   ]
  }
 ],
 "metadata": {
  "kernelspec": {
   "display_name": "Python 3",
   "language": "python",
   "name": "python3"
  },
  "language_info": {
   "codemirror_mode": {
    "name": "ipython",
    "version": 3
   },
   "file_extension": ".py",
   "mimetype": "text/x-python",
   "name": "python",
   "nbconvert_exporter": "python",
   "pygments_lexer": "ipython3",
   "version": "3.7.6"
  }
 },
 "nbformat": 4,
 "nbformat_minor": 4
}
