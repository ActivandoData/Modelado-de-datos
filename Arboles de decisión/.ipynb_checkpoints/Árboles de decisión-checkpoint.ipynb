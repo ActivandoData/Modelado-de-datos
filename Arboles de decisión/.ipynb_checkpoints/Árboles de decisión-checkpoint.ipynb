{
 "cells": [
  {
   "cell_type": "markdown",
   "metadata": {},
   "source": [
    "## Árbol de decisión\n",
    "Variable aleatoria x para predecir Y\n",
    "* Nodos -> Variables aleatorias X\n",
    "* Ramas -> Decisiones o reglas de X\n",
    "* Hojas -> Valor de y bajo las decisiones tomadas para x"
   ]
  },
  {
   "cell_type": "code",
   "execution_count": 19,
   "metadata": {},
   "outputs": [],
   "source": [
    "import pandas as pd\n",
    "from sklearn.tree import DecisionTreeClassifier\n",
    "from sklearn.tree import export_graphviz\n",
    "from sklearn.externals.six import StringIO\n",
    "from sklearn.model_selection import train_test_split\n",
    "from IPython.display import Image\n",
    "import pydotplus"
   ]
  },
  {
   "cell_type": "code",
   "execution_count": 20,
   "metadata": {},
   "outputs": [],
   "source": [
    "#!pip install pydotplus"
   ]
  },
  {
   "cell_type": "code",
   "execution_count": 21,
   "metadata": {},
   "outputs": [
    {
     "data": {
      "text/html": [
       "<div>\n",
       "<style scoped>\n",
       "    .dataframe tbody tr th:only-of-type {\n",
       "        vertical-align: middle;\n",
       "    }\n",
       "\n",
       "    .dataframe tbody tr th {\n",
       "        vertical-align: top;\n",
       "    }\n",
       "\n",
       "    .dataframe thead th {\n",
       "        text-align: right;\n",
       "    }\n",
       "</style>\n",
       "<table border=\"1\" class=\"dataframe\">\n",
       "  <thead>\n",
       "    <tr style=\"text-align: right;\">\n",
       "      <th></th>\n",
       "      <th>pelicula</th>\n",
       "      <th>genero</th>\n",
       "      <th>ratings-rotten</th>\n",
       "      <th>ratings-audiencia</th>\n",
       "      <th>costo-millones-usd</th>\n",
       "      <th>ano-estreno</th>\n",
       "    </tr>\n",
       "  </thead>\n",
       "  <tbody>\n",
       "    <tr>\n",
       "      <th>0</th>\n",
       "      <td>(500) Days of Summer</td>\n",
       "      <td>Comedy</td>\n",
       "      <td>87</td>\n",
       "      <td>81</td>\n",
       "      <td>8</td>\n",
       "      <td>2009</td>\n",
       "    </tr>\n",
       "    <tr>\n",
       "      <th>1</th>\n",
       "      <td>10,000 B.C.</td>\n",
       "      <td>Adventure</td>\n",
       "      <td>9</td>\n",
       "      <td>44</td>\n",
       "      <td>105</td>\n",
       "      <td>2008</td>\n",
       "    </tr>\n",
       "    <tr>\n",
       "      <th>2</th>\n",
       "      <td>12 Rounds</td>\n",
       "      <td>Action</td>\n",
       "      <td>30</td>\n",
       "      <td>52</td>\n",
       "      <td>20</td>\n",
       "      <td>2009</td>\n",
       "    </tr>\n",
       "    <tr>\n",
       "      <th>3</th>\n",
       "      <td>127 Hours</td>\n",
       "      <td>Adventure</td>\n",
       "      <td>93</td>\n",
       "      <td>84</td>\n",
       "      <td>18</td>\n",
       "      <td>2010</td>\n",
       "    </tr>\n",
       "    <tr>\n",
       "      <th>4</th>\n",
       "      <td>17 Again</td>\n",
       "      <td>Comedy</td>\n",
       "      <td>55</td>\n",
       "      <td>70</td>\n",
       "      <td>20</td>\n",
       "      <td>2009</td>\n",
       "    </tr>\n",
       "    <tr>\n",
       "      <th>...</th>\n",
       "      <td>...</td>\n",
       "      <td>...</td>\n",
       "      <td>...</td>\n",
       "      <td>...</td>\n",
       "      <td>...</td>\n",
       "      <td>...</td>\n",
       "    </tr>\n",
       "    <tr>\n",
       "      <th>554</th>\n",
       "      <td>Your Highness</td>\n",
       "      <td>Comedy</td>\n",
       "      <td>26</td>\n",
       "      <td>36</td>\n",
       "      <td>50</td>\n",
       "      <td>2011</td>\n",
       "    </tr>\n",
       "    <tr>\n",
       "      <th>555</th>\n",
       "      <td>Youth in Revolt</td>\n",
       "      <td>Comedy</td>\n",
       "      <td>68</td>\n",
       "      <td>52</td>\n",
       "      <td>18</td>\n",
       "      <td>2009</td>\n",
       "    </tr>\n",
       "    <tr>\n",
       "      <th>556</th>\n",
       "      <td>Zodiac</td>\n",
       "      <td>Thriller</td>\n",
       "      <td>89</td>\n",
       "      <td>73</td>\n",
       "      <td>65</td>\n",
       "      <td>2007</td>\n",
       "    </tr>\n",
       "    <tr>\n",
       "      <th>557</th>\n",
       "      <td>Zombieland</td>\n",
       "      <td>Action</td>\n",
       "      <td>90</td>\n",
       "      <td>87</td>\n",
       "      <td>24</td>\n",
       "      <td>2009</td>\n",
       "    </tr>\n",
       "    <tr>\n",
       "      <th>558</th>\n",
       "      <td>Zookeeper</td>\n",
       "      <td>Comedy</td>\n",
       "      <td>14</td>\n",
       "      <td>42</td>\n",
       "      <td>80</td>\n",
       "      <td>2011</td>\n",
       "    </tr>\n",
       "  </tbody>\n",
       "</table>\n",
       "<p>559 rows × 6 columns</p>\n",
       "</div>"
      ],
      "text/plain": [
       "                 pelicula     genero  ratings-rotten  ratings-audiencia  \\\n",
       "0    (500) Days of Summer     Comedy              87                 81   \n",
       "1             10,000 B.C.  Adventure               9                 44   \n",
       "2               12 Rounds     Action              30                 52   \n",
       "3               127 Hours  Adventure              93                 84   \n",
       "4                17 Again     Comedy              55                 70   \n",
       "..                    ...        ...             ...                ...   \n",
       "554         Your Highness     Comedy              26                 36   \n",
       "555       Youth in Revolt     Comedy              68                 52   \n",
       "556                Zodiac   Thriller              89                 73   \n",
       "557            Zombieland     Action              90                 87   \n",
       "558             Zookeeper     Comedy              14                 42   \n",
       "\n",
       "     costo-millones-usd  ano-estreno  \n",
       "0                     8         2009  \n",
       "1                   105         2008  \n",
       "2                    20         2009  \n",
       "3                    18         2010  \n",
       "4                    20         2009  \n",
       "..                  ...          ...  \n",
       "554                  50         2011  \n",
       "555                  18         2009  \n",
       "556                  65         2007  \n",
       "557                  24         2009  \n",
       "558                  80         2011  \n",
       "\n",
       "[559 rows x 6 columns]"
      ]
     },
     "execution_count": 21,
     "metadata": {},
     "output_type": "execute_result"
    }
   ],
   "source": [
    "df = pd.read_csv(\"../datasets/rating-peliculas.csv\")\n",
    "df"
   ]
  },
  {
   "cell_type": "code",
   "execution_count": 22,
   "metadata": {},
   "outputs": [
    {
     "data": {
      "text/plain": [
       "Index(['pelicula', 'genero', 'ratings-rotten', 'ratings-audiencia',\n",
       "       'costo-millones-usd', 'ano-estreno'],\n",
       "      dtype='object')"
      ]
     },
     "execution_count": 22,
     "metadata": {},
     "output_type": "execute_result"
    }
   ],
   "source": [
    "df.columns"
   ]
  },
  {
   "cell_type": "code",
   "execution_count": 23,
   "metadata": {},
   "outputs": [
    {
     "data": {
      "text/plain": [
       "<bound method NDFrame.describe of                  pelicula     genero  ratings-rotten  ratings-audiencia  \\\n",
       "0    (500) Days of Summer     Comedy              87                 81   \n",
       "1             10,000 B.C.  Adventure               9                 44   \n",
       "2               12 Rounds     Action              30                 52   \n",
       "3               127 Hours  Adventure              93                 84   \n",
       "4                17 Again     Comedy              55                 70   \n",
       "..                    ...        ...             ...                ...   \n",
       "554         Your Highness     Comedy              26                 36   \n",
       "555       Youth in Revolt     Comedy              68                 52   \n",
       "556                Zodiac   Thriller              89                 73   \n",
       "557            Zombieland     Action              90                 87   \n",
       "558             Zookeeper     Comedy              14                 42   \n",
       "\n",
       "     costo-millones-usd  ano-estreno  \n",
       "0                     8         2009  \n",
       "1                   105         2008  \n",
       "2                    20         2009  \n",
       "3                    18         2010  \n",
       "4                    20         2009  \n",
       "..                  ...          ...  \n",
       "554                  50         2011  \n",
       "555                  18         2009  \n",
       "556                  65         2007  \n",
       "557                  24         2009  \n",
       "558                  80         2011  \n",
       "\n",
       "[559 rows x 6 columns]>"
      ]
     },
     "execution_count": 23,
     "metadata": {},
     "output_type": "execute_result"
    }
   ],
   "source": [
    "df.describe"
   ]
  },
  {
   "cell_type": "code",
   "execution_count": 24,
   "metadata": {},
   "outputs": [
    {
     "data": {
      "text/plain": [
       "Comedy       172\n",
       "Action       154\n",
       "Drama        101\n",
       "Horror        49\n",
       "Thriller      36\n",
       "Adventure     29\n",
       "Romance       18\n",
       "Name: genero, dtype: int64"
      ]
     },
     "execution_count": 24,
     "metadata": {},
     "output_type": "execute_result"
    }
   ],
   "source": [
    "# Definiendo una variable objetivo\n",
    "y = df.genero\n",
    "y.value_counts()"
   ]
  },
  {
   "cell_type": "code",
   "execution_count": 25,
   "metadata": {},
   "outputs": [
    {
     "data": {
      "text/plain": [
       "559"
      ]
     },
     "execution_count": 25,
     "metadata": {},
     "output_type": "execute_result"
    }
   ],
   "source": [
    "len(y)"
   ]
  },
  {
   "cell_type": "code",
   "execution_count": 26,
   "metadata": {},
   "outputs": [
    {
     "data": {
      "text/html": [
       "<div>\n",
       "<style scoped>\n",
       "    .dataframe tbody tr th:only-of-type {\n",
       "        vertical-align: middle;\n",
       "    }\n",
       "\n",
       "    .dataframe tbody tr th {\n",
       "        vertical-align: top;\n",
       "    }\n",
       "\n",
       "    .dataframe thead th {\n",
       "        text-align: right;\n",
       "    }\n",
       "</style>\n",
       "<table border=\"1\" class=\"dataframe\">\n",
       "  <thead>\n",
       "    <tr style=\"text-align: right;\">\n",
       "      <th></th>\n",
       "      <th>ratings-rotten</th>\n",
       "      <th>ratings-audiencia</th>\n",
       "      <th>costo-millones-usd</th>\n",
       "      <th>ano-estreno</th>\n",
       "    </tr>\n",
       "  </thead>\n",
       "  <tbody>\n",
       "    <tr>\n",
       "      <th>0</th>\n",
       "      <td>87</td>\n",
       "      <td>81</td>\n",
       "      <td>8</td>\n",
       "      <td>2009</td>\n",
       "    </tr>\n",
       "    <tr>\n",
       "      <th>1</th>\n",
       "      <td>9</td>\n",
       "      <td>44</td>\n",
       "      <td>105</td>\n",
       "      <td>2008</td>\n",
       "    </tr>\n",
       "    <tr>\n",
       "      <th>2</th>\n",
       "      <td>30</td>\n",
       "      <td>52</td>\n",
       "      <td>20</td>\n",
       "      <td>2009</td>\n",
       "    </tr>\n",
       "    <tr>\n",
       "      <th>3</th>\n",
       "      <td>93</td>\n",
       "      <td>84</td>\n",
       "      <td>18</td>\n",
       "      <td>2010</td>\n",
       "    </tr>\n",
       "    <tr>\n",
       "      <th>4</th>\n",
       "      <td>55</td>\n",
       "      <td>70</td>\n",
       "      <td>20</td>\n",
       "      <td>2009</td>\n",
       "    </tr>\n",
       "    <tr>\n",
       "      <th>...</th>\n",
       "      <td>...</td>\n",
       "      <td>...</td>\n",
       "      <td>...</td>\n",
       "      <td>...</td>\n",
       "    </tr>\n",
       "    <tr>\n",
       "      <th>554</th>\n",
       "      <td>26</td>\n",
       "      <td>36</td>\n",
       "      <td>50</td>\n",
       "      <td>2011</td>\n",
       "    </tr>\n",
       "    <tr>\n",
       "      <th>555</th>\n",
       "      <td>68</td>\n",
       "      <td>52</td>\n",
       "      <td>18</td>\n",
       "      <td>2009</td>\n",
       "    </tr>\n",
       "    <tr>\n",
       "      <th>556</th>\n",
       "      <td>89</td>\n",
       "      <td>73</td>\n",
       "      <td>65</td>\n",
       "      <td>2007</td>\n",
       "    </tr>\n",
       "    <tr>\n",
       "      <th>557</th>\n",
       "      <td>90</td>\n",
       "      <td>87</td>\n",
       "      <td>24</td>\n",
       "      <td>2009</td>\n",
       "    </tr>\n",
       "    <tr>\n",
       "      <th>558</th>\n",
       "      <td>14</td>\n",
       "      <td>42</td>\n",
       "      <td>80</td>\n",
       "      <td>2011</td>\n",
       "    </tr>\n",
       "  </tbody>\n",
       "</table>\n",
       "<p>559 rows × 4 columns</p>\n",
       "</div>"
      ],
      "text/plain": [
       "     ratings-rotten  ratings-audiencia  costo-millones-usd  ano-estreno\n",
       "0                87                 81                   8         2009\n",
       "1                 9                 44                 105         2008\n",
       "2                30                 52                  20         2009\n",
       "3                93                 84                  18         2010\n",
       "4                55                 70                  20         2009\n",
       "..              ...                ...                 ...          ...\n",
       "554              26                 36                  50         2011\n",
       "555              68                 52                  18         2009\n",
       "556              89                 73                  65         2007\n",
       "557              90                 87                  24         2009\n",
       "558              14                 42                  80         2011\n",
       "\n",
       "[559 rows x 4 columns]"
      ]
     },
     "execution_count": 26,
     "metadata": {},
     "output_type": "execute_result"
    }
   ],
   "source": [
    "X = df.drop(['pelicula','genero'], axis=1)\n",
    "X"
   ]
  },
  {
   "cell_type": "code",
   "execution_count": 27,
   "metadata": {},
   "outputs": [],
   "source": [
    "# Dividir en dos partes, el entrenamiento y lo que queremos obtener\n",
    "x_train, x_test, y_train, y_test = train_test_split(X, y, test_size=0.2, random_state=1)"
   ]
  },
  {
   "cell_type": "code",
   "execution_count": 28,
   "metadata": {},
   "outputs": [
    {
     "data": {
      "text/plain": [
       "array(['Comedy', 'Drama', 'Action', 'Comedy', 'Comedy', 'Action',\n",
       "       'Comedy', 'Comedy', 'Comedy', 'Comedy', 'Drama', 'Comedy',\n",
       "       'Comedy', 'Comedy', 'Drama', 'Comedy', 'Comedy', 'Comedy',\n",
       "       'Action', 'Drama', 'Action', 'Comedy', 'Comedy', 'Drama', 'Action',\n",
       "       'Comedy', 'Drama', 'Drama', 'Comedy', 'Comedy', 'Drama', 'Action',\n",
       "       'Comedy', 'Comedy', 'Action', 'Drama', 'Drama', 'Comedy', 'Action',\n",
       "       'Comedy', 'Action', 'Comedy', 'Drama', 'Comedy', 'Comedy',\n",
       "       'Comedy', 'Drama', 'Action', 'Action', 'Drama', 'Comedy', 'Comedy',\n",
       "       'Comedy', 'Action', 'Comedy', 'Comedy', 'Comedy', 'Comedy',\n",
       "       'Drama', 'Drama', 'Drama', 'Comedy', 'Comedy', 'Action', 'Comedy',\n",
       "       'Action', 'Action', 'Drama', 'Comedy', 'Drama', 'Comedy', 'Drama',\n",
       "       'Drama', 'Comedy', 'Drama', 'Comedy', 'Comedy', 'Action', 'Action',\n",
       "       'Action', 'Comedy', 'Drama', 'Comedy', 'Comedy', 'Comedy',\n",
       "       'Comedy', 'Drama', 'Action', 'Drama', 'Comedy', 'Drama', 'Comedy',\n",
       "       'Comedy', 'Drama', 'Action', 'Comedy', 'Action', 'Action', 'Drama',\n",
       "       'Comedy', 'Comedy', 'Comedy', 'Drama', 'Action', 'Drama', 'Comedy',\n",
       "       'Drama', 'Comedy', 'Comedy', 'Comedy', 'Action', 'Comedy'],\n",
       "      dtype=object)"
      ]
     },
     "execution_count": 28,
     "metadata": {},
     "output_type": "execute_result"
    }
   ],
   "source": [
    "# Declaramos un clasificador\n",
    "# DecisionTreeClassifier para variables categoricas\n",
    "# Eliminar la entropia se refiere a eliminar el desorden de elementos\n",
    "clf = DecisionTreeClassifier(criterion='entropy', max_depth=3)\n",
    "clf = clf.fit(x_train, y_train)\n",
    "y_pred = clf.predict(x_test)\n",
    "y_pred"
   ]
  },
  {
   "cell_type": "code",
   "execution_count": null,
   "metadata": {},
   "outputs": [],
   "source": [
    "!pip install graphviz"
   ]
  },
  {
   "cell_type": "code",
   "execution_count": null,
   "metadata": {
    "scrolled": true
   },
   "outputs": [],
   "source": [
    "import os\n",
    "os.environ['PATH'] = os.environ['PATH']+';'+os.environ['CONDA_PREFIX']+r\"\\Library\\bin\\graphviz\""
   ]
  },
  {
   "cell_type": "code",
   "execution_count": null,
   "metadata": {},
   "outputs": [],
   "source": [
    "dot_data = StringIO()\n",
    "export_graphviz(clf, out_file=dot_data, filled=True, rounded=True, \n",
    "                special_characters=True, feature_names=X.columns, \n",
    "                class_names=y.value_counts().index)\n",
    "graph = pydotplus.graph_from_dot_data(dot_data.getvalue())\n",
    "graph.write_png('peliculas.png')\n",
    "Image(graph.create_png())"
   ]
  }
 ],
 "metadata": {
  "kernelspec": {
   "display_name": "Python 3",
   "language": "python",
   "name": "python3"
  },
  "language_info": {
   "codemirror_mode": {
    "name": "ipython",
    "version": 3
   },
   "file_extension": ".py",
   "mimetype": "text/x-python",
   "name": "python",
   "nbconvert_exporter": "python",
   "pygments_lexer": "ipython3",
   "version": "3.7.6"
  }
 },
 "nbformat": 4,
 "nbformat_minor": 4
}
