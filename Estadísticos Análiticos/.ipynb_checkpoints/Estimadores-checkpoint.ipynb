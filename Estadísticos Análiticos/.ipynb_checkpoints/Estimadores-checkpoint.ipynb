{
 "cells": [
  {
   "cell_type": "markdown",
   "metadata": {},
   "source": [
    "# Estimadores a traves de datos"
   ]
  },
  {
   "cell_type": "code",
   "execution_count": 3,
   "metadata": {},
   "outputs": [],
   "source": [
    "import sklearn\n",
    "import numpy as np\n",
    "import pandas as pd\n",
    "import matplotlib.pyplot as plt\n",
    "from sklearn.datasets import load_iris\n",
    "from scipy import stats\n",
    "import seaborn as sns\n",
    "from IPython.core.display import Image\n",
    "%matplotlib inline\n",
    "from scipy.stats import norm"
   ]
  },
  {
   "cell_type": "code",
   "execution_count": 13,
   "metadata": {},
   "outputs": [
    {
     "data": {
      "text/plain": [
       "0.24197072451914337"
      ]
     },
     "execution_count": 13,
     "metadata": {},
     "output_type": "execute_result"
    }
   ],
   "source": [
    "x1 = 3\n",
    "mu1 = 4\n",
    "mu2 = 7\n",
    "sigma = 1\n",
    "p_muestra = norm.pdf(x1, mu1, sigma)\n",
    "p_muestra"
   ]
  },
  {
   "cell_type": "code",
   "execution_count": 14,
   "metadata": {},
   "outputs": [
    {
     "data": {
      "text/plain": [
       "0.00013383022576488537"
      ]
     },
     "execution_count": 14,
     "metadata": {},
     "output_type": "execute_result"
    }
   ],
   "source": [
    "p_muestra = norm.pdf(x1, mu2, sigma)\n",
    "p_muestra"
   ]
  },
  {
   "cell_type": "code",
   "execution_count": 16,
   "metadata": {},
   "outputs": [
    {
     "data": {
      "text/plain": [
       "1.4701857752651781e-09"
      ]
     },
     "execution_count": 16,
     "metadata": {},
     "output_type": "execute_result"
    }
   ],
   "source": [
    "x1 = 3\n",
    "x2 = 10\n",
    "mu1 = 4\n",
    "mu2 = 7\n",
    "sigma = 1\n",
    "# Al tener dos eventos conjuntos la probabilidad se multiplica\n",
    "p_muestra = norm.pdf(x1, mu1, sigma)*norm.pdf(x2, mu1, sigma)\n",
    "p_muestra"
   ]
  },
  {
   "cell_type": "code",
   "execution_count": 17,
   "metadata": {},
   "outputs": [
    {
     "data": {
      "text/plain": [
       "5.931152735254122e-07"
      ]
     },
     "execution_count": 17,
     "metadata": {},
     "output_type": "execute_result"
    }
   ],
   "source": [
    "p_muestra = norm.pdf(x1, mu2, sigma)*norm.pdf(x2, mu2, sigma)\n",
    "p_muestra"
   ]
  },
  {
   "cell_type": "code",
   "execution_count": 18,
   "metadata": {},
   "outputs": [
    {
     "data": {
      "text/plain": [
       "array([5.23346025, 7.04647717, 3.88704434, 4.29604799, 3.80516934,\n",
       "       6.3753474 , 4.72786771, 6.11127203, 4.23471277, 3.86314823])"
      ]
     },
     "execution_count": 18,
     "metadata": {},
     "output_type": "execute_result"
    }
   ],
   "source": [
    "muestra_10 = norm.rvs( 5,sigma, size = 10 )\n",
    "muestra_10"
   ]
  },
  {
   "cell_type": "code",
   "execution_count": 30,
   "metadata": {},
   "outputs": [],
   "source": [
    "data1 = norm.rvs( mu1, sigma, size = 100000 )\n",
    "data2 = norm.rvs( mu2, sigma, size = 100000 )"
   ]
  },
  {
   "cell_type": "code",
   "execution_count": 31,
   "metadata": {
    "scrolled": true
   },
   "outputs": [
    {
     "data": {
      "text/plain": [
       "array([5.23346025, 7.04647717, 3.88704434, 4.29604799, 3.80516934,\n",
       "       6.3753474 , 4.72786771, 6.11127203, 4.23471277, 3.86314823])"
      ]
     },
     "execution_count": 31,
     "metadata": {},
     "output_type": "execute_result"
    }
   ],
   "source": [
    "muestra_10"
   ]
  },
  {
   "cell_type": "code",
   "execution_count": 32,
   "metadata": {},
   "outputs": [
    {
     "data": {
      "text/plain": [
       "[3000, 3000, 3000, 3000, 3000, 3000, 3000, 3000, 3000, 3000]"
      ]
     },
     "execution_count": 32,
     "metadata": {},
     "output_type": "execute_result"
    }
   ],
   "source": [
    "# Para generar una altura\n",
    "y = list([])\n",
    "for i in range(10):\n",
    "    y.append(3000)\n",
    "y"
   ]
  },
  {
   "cell_type": "markdown",
   "metadata": {},
   "source": [
    "## La muestra tiene mayor provabilidad de perteecer a mu1 que a mu2"
   ]
  },
  {
   "cell_type": "code",
   "execution_count": 33,
   "metadata": {
    "scrolled": false
   },
   "outputs": [
    {
     "data": {
      "text/plain": [
       "<matplotlib.collections.PathCollection at 0x2dd9019ea48>"
      ]
     },
     "execution_count": 33,
     "metadata": {},
     "output_type": "execute_result"
    },
    {
     "data": {
      "image/png": "[encoded data removed]",
      "text/plain": [
       "<Figure size 432x288 with 1 Axes>"
      ]
     },
     "metadata": {
      "needs_background": "light"
     },
     "output_type": "display_data"
    }
   ],
   "source": [
    "ax = sns.distplot(data1, bins=50, color='blue', kde= False)\n",
    "ax.set(xlabel='Distribucion normal mu1', ylabel='Frecuencia')\n",
    "\n",
    "ax = sns.distplot(data2, bins=50, color='red', kde=False)\n",
    "ax.set(xlabel='Distribucion normal mu1', ylabel='Frecuencia')\n",
    "\n",
    "ax.scatter(muestra_10, y, c='k')"
   ]
  }
 ],
 "metadata": {
  "kernelspec": {
   "display_name": "Python 3",
   "language": "python",
   "name": "python3"
  },
  "language_info": {
   "codemirror_mode": {
    "name": "ipython",
    "version": 3
   },
   "file_extension": ".py",
   "mimetype": "text/x-python",
   "name": "python",
   "nbconvert_exporter": "python",
   "pygments_lexer": "ipython3",
   "version": "3.7.6"
  }
 },
 "nbformat": 4,
 "nbformat_minor": 4
}
