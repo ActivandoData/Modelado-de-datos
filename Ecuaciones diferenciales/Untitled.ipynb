{
 "cells": [
  {
   "cell_type": "markdown",
   "metadata": {},
   "source": [
    "## Resolución de ecuaciones diferenciales con Pyhton"
   ]
  },
  {
   "cell_type": "code",
   "execution_count": 5,
   "metadata": {},
   "outputs": [],
   "source": [
    "# Importamos la librería Sympy\n",
    "import sympy \n",
    "# Importamos el módulo de latex\n",
    "sympy.init_printing(use_latex='mathjax')"
   ]
  },
  {
   "cell_type": "code",
   "execution_count": 7,
   "metadata": {},
   "outputs": [],
   "source": [
    "# Damos de alta la variable simbólica x, y la función Y\n",
    "x = sympy.Symbol('x')\n",
    "y = sympy.Function('y')"
   ]
  },
  {
   "cell_type": "code",
   "execution_count": 8,
   "metadata": {},
   "outputs": [
    {
     "data": {
      "text/latex": [
       "$\\displaystyle y{\\left(x \\right)} = \\frac{C_{1} e^{\\frac{x^{2}}{6}} + 1}{x^{3}}$"
      ],
      "text/plain": [
       "            2    \n",
       "           x     \n",
       "           ──    \n",
       "           6     \n",
       "       C₁⋅ℯ   + 1\n",
       "y(x) = ──────────\n",
       "            3    \n",
       "           x     "
      ]
     },
     "execution_count": 8,
     "metadata": {},
     "output_type": "execute_result"
    }
   ],
   "source": [
    "#Expresamos la ecuacion \n",
    "sympy.Eq(3*x*y(x).diff(x)-(x**2-9)*y(x)+1/x)\n",
    "\n",
    "# Resolviendo la ecuación\n",
    "sympy.dsolve(3*x*y(x).diff(x)-(x**2-9)*y(x)+1/x)"
   ]
  }
 ],
 "metadata": {
  "kernelspec": {
   "display_name": "Python 3",
   "language": "python",
   "name": "python3"
  },
  "language_info": {
   "codemirror_mode": {
    "name": "ipython",
    "version": 3
   },
   "file_extension": ".py",
   "mimetype": "text/x-python",
   "name": "python",
   "nbconvert_exporter": "python",
   "pygments_lexer": "ipython3",
   "version": "3.7.6"
  }
 },
 "nbformat": 4,
 "nbformat_minor": 4
}
